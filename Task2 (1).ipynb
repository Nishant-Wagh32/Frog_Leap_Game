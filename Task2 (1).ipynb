{
 "cells": [
  {
   "cell_type": "code",
   "execution_count": 2,
   "id": "c641bfda",
   "metadata": {},
   "outputs": [
    {
     "name": "stdout",
     "output_type": "stream",
     "text": [
      "['G', 'G', 'G', '-', 'B', 'B', 'B']\n"
     ]
    }
   ],
   "source": [
    "#Actual positions of frogs \n",
    "# 'G'- Green frog  , 'B' = Brown frog , '-' = Empty space\n",
    "positions = ['G','G','G','-','B','B','B']\n",
    "print(positions)"
   ]
  },
  {
   "cell_type": "code",
   "execution_count": 3,
   "id": "b3613032",
   "metadata": {},
   "outputs": [
    {
     "name": "stdout",
     "output_type": "stream",
     "text": [
      "#### Always enter the values less than 7 ####\n",
      "[ 0 ,  1 ,  2 ,  3 ,  4 ,  5 ,  6 ]\n",
      "['G', 'G', 'G', '-', 'B', 'B', 'B']\n"
     ]
    }
   ],
   "source": [
    "#maintaining original positions list for resetting positions\n",
    "\n",
    "print(\"#### Always enter the values less than 7 ####\")\n",
    "print(\"[ 0 ,  1 ,  2 ,  3 ,  4 ,  5 ,  6 ]\")\n",
    "print(positions)\n",
    "org_pos = []\n",
    "org_pos = positions.copy()"
   ]
  },
  {
   "cell_type": "code",
   "execution_count": 4,
   "id": "0fdfeafb",
   "metadata": {},
   "outputs": [
    {
     "name": "stdout",
     "output_type": "stream",
     "text": [
      "Enter the position of frog you want to move or press 'q' to quit the game, 'r' to resetq\n",
      "You lose\n"
     ]
    }
   ],
   "source": [
    "while True:\n",
    "\n",
    "    move = input(\"Enter the position of frog you want to move or press 'q' to quit the game, 'r' to reset\")\n",
    "    #quitting the game\n",
    "    if move == 'q':\n",
    "        print(\"You lose\")\n",
    "        positions = org_pos.copy()\n",
    "        break\n",
    "    \n",
    "    #Resetting the game\n",
    "    if move == 'r':\n",
    "        positions = org_pos.copy()\n",
    "        continue\n",
    "    \n",
    "    #Checking if entered positions is correct or not\n",
    "    if move < '0' or '6' < move:\n",
    "        print(\"Enter correct positions(1-6) or q to quit\")\n",
    "        continue\n",
    "    \n",
    "    #typecasting input(string) to integer type \n",
    "    move = int(move)\n",
    "\n",
    "    #checking for available moves\n",
    "    if positions[move] == 'G':\n",
    "        if move+1 <= 6 and positions[move+1] == '-':\n",
    "            positions[move],positions[move+1] = '-','G'\n",
    "        elif move+2 <= 6 and positions[move+2] == '-':\n",
    "            positions[move],positions[move+2] = '-','G'\n",
    "        else:\n",
    "            print(\"invalid move\")\n",
    "            continue\n",
    "    elif positions[move] == 'B':\n",
    "        if move-1 >= 0 and positions[move-1] == '-':\n",
    "            positions[move],positions[move-1] = '-','B'\n",
    "        elif move-2 >= 0 and positions[move-2] == '-':\n",
    "            positions[move],positions[move-2] = '-','B'\n",
    "        else:\n",
    "            print(\"invalid move\")\n",
    "    else:\n",
    "        print(\"invalid move\")\n",
    "        continue\n",
    "\n",
    "    #checking for conditions where they're stucked\n",
    "    if positions == ['-','G','G','G','B','B','B'] or positions == ['-','G','G','B','G','B','B']:\n",
    "        print(\"Current positions\")\n",
    "        print([0 ,  1 ,  2 ,  3 ,  4 ,  5 ,  6])\n",
    "        print(positions)\n",
    "        print(\"\")\n",
    "        print(\"They are stucked\")\n",
    "        positions = org_pos.copy()\n",
    "        break\n",
    "    \n",
    "    if positions == ['G','G','B','G','B','B','-'] or positions == ['G','G','G','B','B','B','-']:\n",
    "        print(\"Current positions\")\n",
    "        print([0 ,  1 ,  2 ,  3 ,  4 ,  5 ,  6])\n",
    "        print(positions)\n",
    "        print(\"\")\n",
    "        print(\"They are stucked\")\n",
    "        positions = org_pos.copy()\n",
    "        break\n",
    "    \n",
    "    #printing current positions(changed) for every valid move\n",
    "    print(\"Current positions\")\n",
    "    print([0 ,  1 ,  2 ,  3 ,  4 ,  5 ,  6])\n",
    "    print(positions)\n",
    "    print(\"\")\n",
    "        \n",
    "    #checking for winning condition\n",
    "    if positions == ['B','B','B','-','G','G','G']:\n",
    "        print(\"YOU WIN\")\n",
    "        break"
   ]
  },
  {
   "cell_type": "code",
   "execution_count": null,
   "id": "7f6cd67b",
   "metadata": {},
   "outputs": [],
   "source": []
  },
  {
   "cell_type": "code",
   "execution_count": null,
   "id": "9e6f7d0d",
   "metadata": {},
   "outputs": [],
   "source": []
  }
 ],
 "metadata": {
  "kernelspec": {
   "display_name": "Python 3 (ipykernel)",
   "language": "python",
   "name": "python3"
  },
  "language_info": {
   "codemirror_mode": {
    "name": "ipython",
    "version": 3
   },
   "file_extension": ".py",
   "mimetype": "text/x-python",
   "name": "python",
   "nbconvert_exporter": "python",
   "pygments_lexer": "ipython3",
   "version": "3.9.13"
  }
 },
 "nbformat": 4,
 "nbformat_minor": 5
}
